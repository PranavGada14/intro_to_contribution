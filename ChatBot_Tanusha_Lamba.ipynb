{
  "cells": [
    {
      "cell_type": "code",
      "execution_count": null,
      "metadata": {
        "colab": {
          "background_save": true,
          "base_uri": "https://localhost:8080/"
        },
        "id": "vg9aVDchsbLo",
        "outputId": "acf249fd-dad7-48e1-cb9a-82f46d4173ce"
      },
      "outputs": [
        {
          "name": "stdout",
          "output_type": "stream",
          "text": [
            "Chatbot: Hello! Type 'exit' to end the conversation.\n",
            "Chatbot: I'm not sure how to respond to that. Can you teach me?\n",
            "Chatbot: hi\n"
          ]
        }
      ],
      "source": [
        "class Chatbot:\n",
        "    def __init__(me):\n",
        "        me.memory = {}\n",
        "\n",
        "    def learn_from_user(me, user_input, response):\n",
        "        me.memory[user_input] = response\n",
        "\n",
        "    def generate_response(me, user_input):\n",
        "        if user_input in me.memory:\n",
        "            return me.memory[user_input]\n",
        "        else:\n",
        "            return \"I'm not sure how to respond to that.\"\n",
        "\n",
        "def main():\n",
        "    chatbot = Chatbot()\n",
        "    print(\"Chatbot: Hello! Type 'exit' to end the conversation.\")\n",
        "\n",
        "    while True:\n",
        "        user_input = input(\"You: \")\n",
        "\n",
        "        if user_input.lower() == \"exit\":\n",
        "            print(\"Chatbot: Goodbye!, have a nice day!\")\n",
        "            break\n",
        "\n",
        "        if user_input in chatbot.memory:\n",
        "            print(\"Chatbot:\", chatbot.generate_response(user_input))\n",
        "        else:\n",
        "            print(\"Chatbot: I'm not sure how to respond to that. Can you teach me?\")\n",
        "\n",
        "        user_response = input(\"You (teach me): \")\n",
        "        chatbot.learn_from_user(user_input, user_response)\n",
        "\n",
        "if __name__ == \"__main__\":\n",
        "    main()"
      ]
    },
    {
      "cell_type": "code",
      "execution_count": null,
      "metadata": {
        "id": "dbtM5pCgyLIv"
      },
      "outputs": [],
      "source": []
    }
  ],
  "metadata": {
    "colab": {
      "provenance": []
    },
    "kernelspec": {
      "display_name": "Python 3",
      "name": "python3"
    },
    "language_info": {
      "name": "python"
    }
  },
  "nbformat": 4,
  "nbformat_minor": 0
}