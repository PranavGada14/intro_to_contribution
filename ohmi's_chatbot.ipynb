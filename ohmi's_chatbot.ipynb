{
  "nbformat": 4,
  "nbformat_minor": 0,
  "metadata": {
    "colab": {
      "provenance": []
    },
    "kernelspec": {
      "name": "python3",
      "display_name": "Python 3"
    },
    "language_info": {
      "name": "python"
    }
  },
  "cells": [
    {
      "cell_type": "code",
      "execution_count": null,
      "metadata": {
        "id": "zIO-LxgbeMqN"
      },
      "outputs": [],
      "source": [
        "import numpy as np\n",
        "import nltk\n",
        "import string\n",
        "import random\n",
        "from sklearn.feature_extraction.text import TfidfVectorizer\n",
        "from sklearn.metrics.pairwise import cosine_similarity"
      ]
    },
    {
      "cell_type": "code",
      "source": [
        "corpus = open('fortuner__corpus.txt', 'r', errors = 'ignore')\n",
        "raw_doc = corpus.read()\n",
        "raw_doc = raw_doc.lower()\n",
        "nltk.download('punkt')\n",
        "nltk.download('wordnet')\n",
        "sent_tokens = nltk.sent_tokenize(raw_doc)\n",
        "word_tokens = nltk.word_tokenize(raw_doc)"
      ],
      "metadata": {
        "colab": {
          "base_uri": "https://localhost:8080/"
        },
        "id": "UcXxuFxVeZ-g",
        "outputId": "47c7ceb7-fd50-4238-bb6b-a0d9a0b9adfb"
      },
      "execution_count": null,
      "outputs": [
        {
          "output_type": "stream",
          "name": "stderr",
          "text": [
            "[nltk_data] Downloading package punkt to /root/nltk_data...\n",
            "[nltk_data]   Package punkt is already up-to-date!\n",
            "[nltk_data] Downloading package wordnet to /root/nltk_data...\n",
            "[nltk_data]   Package wordnet is already up-to-date!\n"
          ]
        }
      ]
    },
    {
      "cell_type": "code",
      "source": [
        "sent_tokens[:1]"
      ],
      "metadata": {
        "id": "8f4y1kTCgsQF"
      },
      "execution_count": null,
      "outputs": []
    },
    {
      "cell_type": "code",
      "source": [
        "word_tokens[:2]"
      ],
      "metadata": {
        "id": "TUe8jeQng-K0"
      },
      "execution_count": null,
      "outputs": []
    },
    {
      "cell_type": "code",
      "source": [
        "lemmer = nltk.stem.WordNetLemmatizer()\n",
        "def LemTokens(tokens):\n",
        "  return [lemmer.lemmatize(token) for token in tokens]\n",
        "remove_punct_dict = dict((ord(punct), None) for punct in string.punctuation)\n",
        "def LemNormalize(text):\n",
        "  return LemTokens(nltk.word_tokenize(text.lower().translate(remove_punct_dict)))\n"
      ],
      "metadata": {
        "id": "z6y-nbAqhoSx"
      },
      "execution_count": null,
      "outputs": []
    },
    {
      "cell_type": "code",
      "source": [
        "GREET_INPUTS = (\"hello\", \"hi\", \"greetings\", \"sup\", \"what's up\", \"hey\", \"how are you\")\n",
        "GREET_RESPONSES = [\"hi\", \"hey\", \"*nods*\", \"hi there\", \"hello\", \"I'm glad that you are talking to me\", \"hey, how can I help you\", \"Hey, how are you\"]\n",
        "def greet(sentence):\n",
        "  for word in sentence.split():\n",
        "    if word.lower() in GREET_INPUTS:\n",
        "      return random.choice(GREET_RESPONSES)"
      ],
      "metadata": {
        "id": "ZEV0rjd3jZxH"
      },
      "execution_count": null,
      "outputs": []
    },
    {
      "cell_type": "code",
      "source": [
        "from sklearn.utils.extmath import row_norms\n",
        "def response(user_response):\n",
        "  robo1_response=''\n",
        "  TfidfVec = TfidfVectorizer(tokenizer=LemNormalize, stop_words='english')\n",
        "  tfidf = TfidfVec.fit_transform(sent_tokens)\n",
        "  vals = cosine_similarity(tfidf[-1], tfidf)\n",
        "  idx=vals.argsort()[0][-2]\n",
        "  flat = vals.flatten()\n",
        "  flat.sort()\n",
        "  req_tfidf = flat[-2]\n",
        "  if(req_tfidf==0):\n",
        "    robo1_response=robo1_response+\"Sorry! I did not get you :(\"\n",
        "    return robo1_response\n",
        "  else:\n",
        "    robo1_response = robo1_response+sent_tokens[idx]\n",
        "    return robo1_response"
      ],
      "metadata": {
        "id": "SJSwrLkPkuNN"
      },
      "execution_count": null,
      "outputs": []
    },
    {
      "cell_type": "code",
      "source": [
        "flag=True\n",
        "print(\"Ohmi's Bot: Hey I am ohmi's bot. Let's have a talk... Also if you want me to exit any time, just type Bye.\")\n",
        "while(flag==True):\n",
        "  user_response = input()\n",
        "  user_response = user_response.lower()\n",
        "  if(user_response!='bye'):\n",
        "    if(user_response=='thanks' or user_response=='thankyou'):\n",
        "      flag==False\n",
        "      print(\"Ohmi's Bot: I'll take a leave, See you soon!!!\")\n",
        "    else:\n",
        "      if(greet(user_response)!=None):\n",
        "        print(\"Ohmi's Bot: \"+greet(user_response))\n",
        "      else:\n",
        "        sent_tokens.append(user_response)\n",
        "        word_tokens=word_tokens+nltk.word_tokenize(user_response)\n",
        "        final_words=list(set(word_tokens))\n",
        "        print(\"Ohmi's Bot: \", end=\"\")\n",
        "        print(response(user_response))\n",
        "        sent_tokens.remove(user_response)\n",
        "  else:\n",
        "    flag=False\n",
        "    print(\"Ohmi's Bot: Goodbye, see you soon!!!\")\n"
      ],
      "metadata": {
        "colab": {
          "base_uri": "https://localhost:8080/"
        },
        "id": "462KYyfenLdJ",
        "outputId": "c89f55dc-a8f1-43fb-b9a6-96a7f945f4b5"
      },
      "execution_count": null,
      "outputs": [
        {
          "output_type": "stream",
          "name": "stdout",
          "text": [
            "Ohmi's Bot: Hey I am ohmi's bot. Let's have a talk... Also if you want me to exit any time, just type Bye.\n",
            "hello\n",
            "Ohmi's Bot: *nods*\n",
            "tyre\n",
            "Ohmi's Bot: Sorry! I did not get you :(\n",
            "fortuner\n",
            "Ohmi's Bot: the fortuner is available in the following grade levels:\n",
            "\n",
            "fortuner urbana 4×2, with a 2.7-litre engine.\n",
            "fuel\n",
            "Ohmi's Bot: according to toyota motor philippines, the engine would have improved fuel efficiency and produce additional power by 40% and increase torque by 30%.\n",
            "speed\n",
            "Ohmi's Bot: Sorry! I did not get you :(\n",
            "mileage\n",
            "Ohmi's Bot: Sorry! I did not get you :(\n",
            "engine\n",
            "Ohmi's Bot: initial engine options were the 2.7-litre petrol engine or the 2.4-litre diesel engine.\n",
            "diesel\n",
            "Ohmi's Bot: there is no diesel variant available.\n",
            "petrol\n",
            "Ohmi's Bot: in the uae, when the facelifted version was released the fortuner was available in two variants, the 2.7-litre petrol engine and 4.0-litre petrol engine.\n",
            "bye\n",
            "Ohmi's Bot: Goodbye, see you soon!!!\n"
          ]
        }
      ]
    }
  ]
}